{
 "cells": [
  {
   "cell_type": "markdown",
   "metadata": {},
   "source": [
    "# Note Template \n",
    "- comments: true"
   ]
  },
  {
   "cell_type": "markdown",
   "metadata": {},
   "source": [
    "# What is a procedure?\n",
    "\n",
    "Fill in the blanks please:\n",
    "\n",
    "Procedure: \n",
    "\n",
    "Parameters:\n",
    "\n",
    "Arguments:\n",
    "\n",
    "Modularity: \n",
    "\n"
   ]
  },
  {
   "cell_type": "markdown",
   "metadata": {},
   "source": [
    "## Instructions to the code below: Add the command that will call the procedure"
   ]
  },
  {
   "cell_type": "code",
   "execution_count": 13,
   "metadata": {},
   "outputs": [
    {
     "name": "stdout",
     "output_type": "stream",
     "text": [
      "7 in binary is ...\n",
      "111\n"
     ]
    }
   ],
   "source": [
    "decimal = 7 # decimal number\n",
    "print(decimal,\"in binary is ...\")\n",
    "\n",
    "convertToBinary(decimal) # MAKE THIS THE THING THE STUDENTS HAVE TO ADD DURING THE LESSON\n",
    "\n",
    "def convertToBinary(n): # Function to print binary number\n",
    "   if n > 1:\n",
    "       convertToBinary(n//2)\n",
    "   print(n % 2,end = '')\n",
    "print()"
   ]
  },
  {
   "cell_type": "markdown",
   "metadata": {},
   "source": [
    "# Homework/Hacks: "
   ]
  },
  {
   "cell_type": "code",
   "execution_count": null,
   "metadata": {},
   "outputs": [],
   "source": []
  }
 ],
 "metadata": {
  "kernelspec": {
   "display_name": "Python 3.8.2 64-bit",
   "language": "python",
   "name": "python3"
  },
  "language_info": {
   "codemirror_mode": {
    "name": "ipython",
    "version": 3
   },
   "file_extension": ".py",
   "mimetype": "text/x-python",
   "name": "python",
   "nbconvert_exporter": "python",
   "pygments_lexer": "ipython3",
   "version": "3.8.2"
  },
  "orig_nbformat": 4,
  "vscode": {
   "interpreter": {
    "hash": "916dbcbb3f70747c44a77c7bcd40155683ae19c65e1c03b4aa3499c5328201f1"
   }
  }
 },
 "nbformat": 4,
 "nbformat_minor": 2
}
