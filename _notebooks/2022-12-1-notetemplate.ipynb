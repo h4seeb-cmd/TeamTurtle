{
 "cells": [
  {
   "cell_type": "markdown",
   "metadata": {},
   "source": [
    "# Unit 3.12 and 3.13\n",
    "- toc: true\n",
    "- comments: true\n",
    "- categories: [Week-15,Big-Idea-12/13]"
   ]
  },
  {
   "cell_type": "markdown",
   "metadata": {},
   "source": [
    "# What is a procedure?\n",
    "\n",
    "Fill in the blanks please:\n",
    "\n",
    "Procedure: \n",
    "\n",
    "Parameters:\n",
    "\n",
    "Arguments:\n",
    "\n",
    "Modularity: \n",
    "\n"
   ]
  },
  {
   "cell_type": "code",
   "execution_count": 13,
   "metadata": {},
   "outputs": [
    {
     "name": "stdout",
     "output_type": "stream",
     "text": [
      "7 in binary is ...\n",
      "111\n"
     ]
    }
   ],
   "source": [
    "decimal = 7 # decimal number\n",
    "print(decimal,\"in binary is ...\")\n",
    "\n",
    "convertToBinary(decimal) # MAKE THIS THE THING THE STUDENTS HAVE TO ADD DURING THE LESSON\n",
    "\n",
    "def convertToBinary(n): # Function to print binary number\n",
    "   if n > 1:\n",
    "       convertToBinary(n//2)\n",
    "   print(n % 2,end = '')\n",
    "print()"
   ]
  }
 ],
 "metadata": {
  "kernelspec": {
   "display_name": "Python 3.8.2 64-bit",
   "language": "python",
   "name": "python3"
  },
  "language_info": {
   "codemirror_mode": {
    "name": "ipython",
    "version": 3
   },
   "file_extension": ".py",
   "mimetype": "text/x-python",
   "name": "python",
   "nbconvert_exporter": "python",
   "pygments_lexer": "ipython3",
   "version": "3.8.2"
  },
  "orig_nbformat": 4,
  "vscode": {
   "interpreter": {
    "hash": "916dbcbb3f70747c44a77c7bcd40155683ae19c65e1c03b4aa3499c5328201f1"
   }
  }
 },
 "nbformat": 4,
 "nbformat_minor": 2
}
