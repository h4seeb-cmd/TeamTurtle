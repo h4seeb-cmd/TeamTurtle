{
 "cells": [
  {
   "attachments": {},
   "cell_type": "markdown",
   "metadata": {},
   "source": [
    "# Procedures using JavaScript\n",
    "- comments: true"
   ]
  },
  {
   "attachments": {},
   "cell_type": "markdown",
   "metadata": {},
   "source": [
    "# Example 1: Time Conversion Procedure"
   ]
  },
  {
   "cell_type": "code",
   "execution_count": 1,
   "metadata": {},
   "outputs": [
    {
     "name": "stdout",
     "output_type": "stream",
     "text": [
      "19:05:45\n"
     ]
    }
   ],
   "source": [
    "function timeConversion(s) {\n",
    "    var arr = s.slice(0,8).split(':');\n",
    "    arr[0] = (s.indexOf('PM') > -1) ?\n",
    "             (arr[0] == 12 ? '12' : Number(arr[0]) + 12) :\n",
    "             (arr[0] == 12 ? '00' : arr[0]);\n",
    "    console.log(arr.join(':'));\n",
    "    }\n",
    "\n",
    "    var input = \"07:05:45PM\";\n",
    "    timeConversion(input);"
   ]
  },
  {
   "attachments": {},
   "cell_type": "markdown",
   "metadata": {},
   "source": [
    "# Example 2: Positive and Negatives Procedure"
   ]
  },
  {
   "cell_type": "code",
   "execution_count": 2,
   "metadata": {},
   "outputs": [
    {
     "name": "stdout",
     "output_type": "stream",
     "text": [
      "There are 5 total numbers\n",
      "There are 2 positive numbers\n",
      "There are 2 negative numbers\n",
      "There are 1 zeroes\n"
     ]
    }
   ],
   "source": [
    "function plusMinus(arr) {\n",
    "    var pos = 0;\n",
    "    var neg = 0;\n",
    "    var zero = 0;\n",
    "    \n",
    "    var length = arr.length;\n",
    "    for (var i = 0; i < arr.length; i++) {\n",
    "        if (arr[i] > 0) {\n",
    "          pos += 1;\n",
    "        } else if (arr[i] < 0) {\n",
    "          neg += 1;\n",
    "        } else {\n",
    "          zero += 1;\n",
    "        }\n",
    "      }\n",
    "     console.log(\"There are \" + arr.length + \" total numbers\");\n",
    "     console.log(\"There are \" + pos + \" positive numbers\");\n",
    "     console.log(\"There are \" + neg + \" negative numbers\");\n",
    "     console.log(\"There are \" + zero + \" zeroes\");\n",
    "    }\n",
    "\n",
    "    var array = [1, 1, 0 , -1, -1];\n",
    "    plusMinus(array);"
   ]
  }
 ],
 "metadata": {
  "kernelspec": {
   "display_name": "JavaScript (Node.js)",
   "language": "javascript",
   "name": "javascript"
  },
  "language_info": {
   "file_extension": ".js",
   "mimetype": "application/javascript",
   "name": "javascript",
   "version": "6.11.2"
  },
  "orig_nbformat": 4
 },
 "nbformat": 4,
 "nbformat_minor": 2
}
