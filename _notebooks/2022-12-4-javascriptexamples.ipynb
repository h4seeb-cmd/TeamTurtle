{
 "cells": [
  {
   "attachments": {},
   "cell_type": "markdown",
   "metadata": {},
   "source": [
    "# Procedures using JavaScript\n",
    "- comments: true"
   ]
  },
  {
   "attachments": {},
   "cell_type": "markdown",
   "metadata": {},
   "source": [
    "# Example 1: Postive and Negatives Procedure"
   ]
  },
  {
   "cell_type": "code",
   "execution_count": 2,
   "metadata": {},
   "outputs": [
    {
     "name": "stdout",
     "output_type": "stream",
     "text": [
      "There are 5 total numbers\n",
      "There are 2 positive numbers\n",
      "There are 2 negative numbers\n",
      "There are 1 zeroes\n"
     ]
    }
   ],
   "source": [
    "function plusMinus(arr) {\n",
    "    var pos = 0;\n",
    "    var neg = 0;\n",
    "    var zero = 0;\n",
    "    \n",
    "    var length = arr.length;\n",
    "    for (var i = 0; i < arr.length; i++) {\n",
    "        if (arr[i] > 0) {\n",
    "          pos += 1;\n",
    "        } else if (arr[i] < 0) {\n",
    "          neg += 1;\n",
    "        } else {\n",
    "          zero += 1;\n",
    "        }\n",
    "      }\n",
    "     console.log(\"There are \" + arr.length + \" total numbers\");\n",
    "     console.log(\"There are \" + pos + \" positive numbers\");\n",
    "     console.log(\"There are \" + neg + \" negative numbers\");\n",
    "     console.log(\"There are \" + zero + \" zeroes\");\n",
    "    }\n",
    "\n",
    "    var array = [1, 1, 0 , -1, -1];\n",
    "    plusMinus(array);"
   ]
  },
  {
   "attachments": {},
   "cell_type": "markdown",
   "metadata": {},
   "source": [
    "# <mark>Challenge 2</mark> 2: Time Conversion Procedure (Bonus 0.1 points)"
   ]
  },
  {
   "cell_type": "code",
   "execution_count": 3,
   "metadata": {},
   "outputs": [
    {
     "name": "stdout",
     "output_type": "stream",
     "text": [
      "21:00:00\n"
     ]
    }
   ],
   "source": [
    "function timeConversion(s) {\n",
    "  \n",
    "  }\n",
    "\n",
    "  var input = \"09:00:00PM\";\n",
    "  timeConversion(input);"
   ]
  }
 ],
 "metadata": {
  "kernelspec": {
   "display_name": "JavaScript (Node.js)",
   "language": "javascript",
   "name": "javascript"
  },
  "language_info": {
   "file_extension": ".js",
   "mimetype": "application/javascript",
   "name": "javascript",
   "version": "6.11.2"
  },
  "orig_nbformat": 4
 },
 "nbformat": 4,
 "nbformat_minor": 2
}
