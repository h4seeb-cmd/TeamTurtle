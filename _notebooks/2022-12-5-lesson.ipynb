{
 "cells": [
  {
   "attachments": {},
   "cell_type": "markdown",
   "metadata": {},
   "source": [
    "# Lesson Plan\n"
   ]
  },
  {
   "attachments": {},
   "cell_type": "markdown",
   "metadata": {},
   "source": [
    "# 3.13 Developing Procedures: \n",
    "\n",
    "What is a procedure: \n",
    "- A **Procedure** is a named group of programming instructions that may have parameters and return values. It is a group of code that serves a purpose.\n",
    "- Procedures can also be referred as method or function, depending on language. \n",
    "- **Parameters** are input values of a procedure. \n",
    "- **Arguments** specify the values of the parameters when a procedure is called\n",
    "\n",
    "-  Developing a procedure: What questions do I need to ask myself? \n",
    "    - What am I going to name my procedure? (It should reflect the purpose of the code)\n",
    "    - What parameters do I need? \n",
    "    - What data would I need to take in to accomplish my goal?\n",
    "    - Do I want my procedure to give a numerical value, or complete an action? "
   ]
  },
  {
   "attachments": {},
   "cell_type": "markdown",
   "metadata": {},
   "source": [
    "In this example, what is the name of the procedure, what are the paramters, and what does the procedure return?"
   ]
  },
  {
   "cell_type": "code",
   "execution_count": 11,
   "metadata": {},
   "outputs": [
    {
     "name": "stdout",
     "output_type": "stream",
     "text": [
      "10 x 200 = 2000\n"
     ]
    }
   ],
   "source": [
    "a = 10\n",
    "b = 200\n",
    "\n",
    "def multiplication(a, b):\n",
    "    product = a * b\n",
    "    return product\n",
    "\n",
    "answer = multiplication(a, b)\n",
    "print(a, \"x\", b, \"=\", answer)"
   ]
  },
  {
   "attachments": {},
   "cell_type": "markdown",
   "metadata": {},
   "source": [
    "What is procedural abstraction? \n",
    "- One type of abstraction is ***procedural abstraction***, which provides a name for a process that allows a procedure to be used only knowing WHAT it does, not HOW it does it. \n",
    "    - Have variable parameters\n",
    "    - Code handles different situations depending on how its parameters are set/called\n",
    "    - It allows a solution to a large problem based on the solutions of smaller subproblems. \n",
    "- Separating a program's functions into independent pieces or  blocks, each containing all the parts needed to execute a single aspect of the functionality is called **modularity***\n",
    "\n",
    "\n",
    "What is a benefit of using procedures?\n",
    "\n",
    "- We have the ability to alter the result without actually changing the calls to the program\n",
    "- Convenient to change the actions if there is an error in the code (modularity)\n",
    "    - able to break the code up and abstract what different part of the code does; helps identiy bugs, error, etc. \n",
    "    - MUCH better than reviewing code WITHOUT a procedure (you would have to look at every line by line)"
   ]
  },
  {
   "attachments": {},
   "cell_type": "markdown",
   "metadata": {},
   "source": [
    "Here is an example of modularity and the benefits of procedures. Which is better? This is not any particulur language, but it helps us understand why procedures are beneficial\n",
    "\n",
    "Say a object is moving across a grid and wants to get to the finish line. This is what the object is doing:\n",
    "\n",
    "rotate_left()\n",
    "move_forward()\n",
    "rotate_right()\n",
    "move_forward()\n",
    "rotate_right()\n",
    "move_forward()\n",
    "rotate_left()\n",
    "move_forward()\n",
    "move_forward()\n",
    "\n",
    "Say the object doesn't end up at the finish line. It is going to be a pain to individually look at every line and see what to fix (of course, in this example, it wouldn't be that bad, but we're assuming that it will be much longer).\n",
    "\n",
    "This is where procedures come in handy.\n",
    "\n",
    "We can split up the code into differnet motions.\n",
    "\n",
    "rotate_left()\n",
    "move_forward()\n",
    "rotate_right()\n",
    "move_forward()\n",
    "rotate_right()\n",
    "move_forward()\n",
    "\n",
    "We can call this whole segment detourRight()\n",
    "\n",
    "rotate_left()\n",
    "move_forward()\n",
    "move_forward()\n",
    "\n",
    "And we can call this turnCorner()\n",
    "\n",
    "\n",
    "Seperating the long code into two different procedures allows us to individually point at what might have gone wrong during the process and is therefore essential to coders. "
   ]
  },
  {
   "attachments": {},
   "cell_type": "markdown",
   "metadata": {},
   "source": [
    "# 3.12: Calling Procedures\n",
    "- A **Procedure** is a named group of programming instructions that may have parameters and return values.\n",
    "- Procedures can also be referred as method or function, depending on language. \n",
    "- **Parameters** are input values of a procedure. \n",
    "- **Arguments** specify the values of the parameters when a procedure is called\n"
   ]
  },
  {
   "attachments": {},
   "cell_type": "markdown",
   "metadata": {},
   "source": [
    "A procedure call interrupts a series of statements and makes the program execute the statements in the procedure. If you have a set of statements and inside there is a procedure then when it reaches that procedure it will excute that procedure and then go back to the rest of the statments.\n",
    "\n",
    "A procedure MAY or MAY NOT return a value (a number or boolean (true or false)). \n",
    "\n",
    "- When it **doesn't**, we just use the procedure name along with arguments.\n",
    "\n",
    "To call a procedure you would write the name of the procedure followed by the parentheses with the parameters of the procedure (there may not be parameters, but parenthesis must be there)\n",
    "\n",
    "In order to determine what the result of a procedure is, you need to carefully examine the code line by line "
   ]
  },
  {
   "cell_type": "markdown",
   "metadata": {},
   "source": [
    "## What if a procedure **DOES** return a number or boolean?\n",
    "\n",
    "- In this case, when we call the procedure, we are going to assign that to a variable. Before we call a procedure, we need to know what kind of procedure we're dealing with.\n",
    "\n",
    "- We need to know if the procedure requires arguments and what type of data the procedure will return "
   ]
  },
  {
   "cell_type": "markdown",
   "metadata": {},
   "source": [
    "Lets look at a few simple examples"
   ]
  },
  {
   "attachments": {},
   "cell_type": "markdown",
   "metadata": {},
   "source": [
    "What is the procedure name, the paramters, and the result of the procedure?"
   ]
  },
  {
   "cell_type": "code",
   "execution_count": 13,
   "metadata": {},
   "outputs": [
    {
     "name": "stdout",
     "output_type": "stream",
     "text": [
      "16\n"
     ]
    }
   ],
   "source": [
    "def square(x): # the procedure is defined with the parameter being x\n",
    "  \treturn x*x # x is multiplied by x\n",
    "    \n",
    "print(square(4)) # the 4 becomes the argument"
   ]
  },
  {
   "cell_type": "code",
   "execution_count": 1,
   "metadata": {},
   "outputs": [
    {
     "name": "stdout",
     "output_type": "stream",
     "text": [
      "64\n"
     ]
    }
   ],
   "source": [
    "def multiplyNum(num): # procedure is defined with the parameter num\n",
    "    return num * 8  # num will be multipled by 8\n",
    "\n",
    "result = multiplyNum(8) # 8 becomes the num; afterwards, 8 is multiplied by 8 to become 64. \n",
    "print(result)"
   ]
  },
  {
   "cell_type": "code",
   "execution_count": 28,
   "metadata": {},
   "outputs": [
    {
     "name": "stdout",
     "output_type": "stream",
     "text": [
      "10 - 6.7 = 3.3\n"
     ]
    }
   ],
   "source": [
    "a = 10\n",
    "b = 6.7\n",
    "\n",
    "def subNumbers(x,y): # procedure is defined with paramters x and y\n",
    "    return (x-y)\n",
    " \n",
    "# here, the result calls the procedure subNumbers and tells the procedure to subtract a and b.\n",
    "result = subNumbers(a, b)\n",
    " \n",
    "# afterwards, it prints here\n",
    "print(a, \"-\", b, \"=\", result)"
   ]
  },
  {
   "attachments": {},
   "cell_type": "markdown",
   "metadata": {},
   "source": [
    "- <mark>Challenge 1</mark> Let's try an example with a decimal to binary convertor. Please take time to create a conversion to from decimal to binary and call the procedure and print."
   ]
  },
  {
   "cell_type": "code",
   "execution_count": null,
   "metadata": {},
   "outputs": [],
   "source": [
    "decimal = 7\n",
    "\n",
    "def convertToBinary(n):\n",
    "\n",
    "\n",
    "    (decimal) \n",
    "print()"
   ]
  },
  {
   "cell_type": "markdown",
   "metadata": {},
   "source": [
    "## Homework/Hacks: For the hw, you have two options, easy or hard. The easy hack is for a 2.7 + extra work for the full 3. The easy hack is simply creating your own procedure with your own creativity. Since there is a lot of leeway for this one, you must do additional work to get a 3. For the hard hack, below is the start to a character to binary convertor. This is just a template, but the goal is to translate \"APCSP\" into binary. The only contraint is that you must use a procedure. Doing this will get you a 3. "
   ]
  },
  {
   "cell_type": "code",
   "execution_count": null,
   "metadata": {},
   "outputs": [],
   "source": [
    "def charToBinary(x):()"
   ]
  }
 ],
 "metadata": {
  "kernelspec": {
   "display_name": "Python 3.8.2 64-bit",
   "language": "python",
   "name": "python3"
  },
  "language_info": {
   "codemirror_mode": {
    "name": "ipython",
    "version": 3
   },
   "file_extension": ".py",
   "mimetype": "text/x-python",
   "name": "python",
   "nbconvert_exporter": "python",
   "pygments_lexer": "ipython3",
   "version": "3.8.2"
  },
  "orig_nbformat": 4,
  "vscode": {
   "interpreter": {
    "hash": "916dbcbb3f70747c44a77c7bcd40155683ae19c65e1c03b4aa3499c5328201f1"
   }
  }
 },
 "nbformat": 4,
 "nbformat_minor": 2
}
